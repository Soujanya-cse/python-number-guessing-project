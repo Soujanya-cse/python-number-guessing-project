{
 "cells": [
  {
   "cell_type": "code",
   "execution_count": 1,
   "id": "5e533739",
   "metadata": {},
   "outputs": [
    {
     "name": "stdout",
     "output_type": "stream",
     "text": [
      "13\n",
      "Enter guess the number (1-50) >> 12\n",
      "Oh no! Try again!\n",
      "Enter guess the number (1-50) >> 56\n",
      "Oh no! Try again!\n",
      "Enter guess the number (1-50) >> 23\n",
      "Oh no! Try again!\n",
      "Enter guess the number (1-50) >> 13\n",
      "You guessed it right. Victory! \n",
      "You took 4 chances.\n"
     ]
    }
   ],
   "source": [
    "import random\n",
    "secretnum = random.randint(0,50)\n",
    "print(secretnum)\n",
    "count = 1\n",
    "while(True):\n",
    "    guess = int(input(\"Enter guess the number (1-50) >> \"))\n",
    "    if guess==secretnum:\n",
    "        print(\"You guessed it right. Victory! \")\n",
    "        break\n",
    "    else:\n",
    "        print(\"Oh no! Try again!\")\n",
    "        count+=1\n",
    "print(f\"You took {count} chances.\")"
   ]
  },
  {
   "cell_type": "code",
   "execution_count": null,
   "id": "17202385",
   "metadata": {},
   "outputs": [],
   "source": []
  },
  {
   "cell_type": "code",
   "execution_count": null,
   "id": "f04fb729",
   "metadata": {},
   "outputs": [],
   "source": []
  }
 ],
 "metadata": {
  "kernelspec": {
   "display_name": "Python 3 (ipykernel)",
   "language": "python",
   "name": "python3"
  },
  "language_info": {
   "codemirror_mode": {
    "name": "ipython",
    "version": 3
   },
   "file_extension": ".py",
   "mimetype": "text/x-python",
   "name": "python",
   "nbconvert_exporter": "python",
   "pygments_lexer": "ipython3",
   "version": "3.9.13"
  }
 },
 "nbformat": 4,
 "nbformat_minor": 5
}
